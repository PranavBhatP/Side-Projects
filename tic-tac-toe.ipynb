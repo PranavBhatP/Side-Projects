{
 "cells": [
  {
   "cell_type": "code",
   "execution_count": 1,
   "metadata": {},
   "outputs": [],
   "source": [
    "from IPython.display import clear_output\n",
    "def display_board(board):\n",
    "    clear_output()\n",
    "    \n",
    "    print(' ' + board[7] + '  | ' + board[8] + '  | ' + board[9])\n",
    "    print(' ' + board[4] + '  | ' + board[5] + '  | ' + board[6])\n",
    "    print(' ' + board[1] + '  | ' + board[2] + '  | ' + board[3])\n",
    "  "
   ]
  },
  {
   "cell_type": "code",
   "execution_count": 2,
   "metadata": {},
   "outputs": [],
   "source": [
    "def player_input():\n",
    "    marker = ''\n",
    "    while marker not in ['X', 'O']:\n",
    "        marker = input(\"Player 1, please enter your choice, (X or O): \")\n",
    "        if marker not in ['X', 'O']:\n",
    "            print(\"Please enter the correct choice\")\n",
    "    if marker == 'X':\n",
    "        return ('X', 'O')\n",
    "    else:\n",
    "        return ('O', 'X')\n",
    "    "
   ]
  },
  {
   "cell_type": "code",
   "execution_count": 3,
   "metadata": {},
   "outputs": [],
   "source": [
    "def place_marker(board, marker, position):\n",
    "    board[position] = marker"
   ]
  },
  {
   "cell_type": "code",
   "execution_count": 4,
   "metadata": {},
   "outputs": [],
   "source": [
    "def win_check(board, marker):\n",
    "    return (board[0] == marker and board[1] == marker and board[2] == marker) or (board[4] == marker and board[5] == marker and board[6] == marker) or (board[7] == marker and board[8] == marker and board[9] == marker) or (board[1] == marker and board[4] == marker and board[6] == marker) or (board[2] == marker and board[5] == marker and board[8] == marker) or (board[3] == marker and board[6] == marker and board[9] == marker) or (board[7] == marker and board[5] == marker and board[3] == marker) or (board[9] == marker and board[5] == marker and board[3] == marker) \n",
    "\n"
   ]
  },
  {
   "cell_type": "code",
   "execution_count": 5,
   "metadata": {},
   "outputs": [],
   "source": [
    "import random\n",
    "#This function carries signifcant functionality while making many different games because it can be used to select players to go first randomly\n",
    "def choose_first():\n",
    "    if random.randint(0, 1) == 0:\n",
    "        return \"Player 1\"\n",
    "    else:\n",
    "        return \"Player 2\"\n",
    "\n"
   ]
  },
  {
   "cell_type": "code",
   "execution_count": 6,
   "metadata": {},
   "outputs": [],
   "source": [
    "def space_check(board, position):\n",
    "    return board[position] == ''"
   ]
  },
  {
   "cell_type": "code",
   "execution_count": 7,
   "metadata": {},
   "outputs": [],
   "source": [
    "def full_board_check(board):\n",
    "    for i in range(1,10):\n",
    "        if space_check(board, i):\n",
    "            return False\n",
    "    return True\n"
   ]
  },
  {
   "cell_type": "code",
   "execution_count": 8,
   "metadata": {},
   "outputs": [],
   "source": [
    "def player_choice(board):\n",
    "    choice = ''\n",
    "    while choice not in ['1','2','3','4','5','6','7','8','9'] or not space_check(board, int(choice)):\n",
    "        choice = input(\"Please enter your choice, (1,9): \")\n",
    "        if choice not in ['1','2','3','4','5','6','7','8','9']:\n",
    "            print(\"Pleas enter a valid choice\")\n",
    "    \n",
    "    return int(choice)\n",
    "    \n",
    "    \n",
    "    \n",
    "        "
   ]
  },
  {
   "cell_type": "code",
   "execution_count": 9,
   "metadata": {},
   "outputs": [],
   "source": [
    "def replay():\n",
    "    return input(\"Do you want to replay the game? (y/n) \").lower().startswith(\"y\")"
   ]
  },
  {
   "cell_type": "code",
   "execution_count": 11,
   "metadata": {},
   "outputs": [
    {
     "name": "stdout",
     "output_type": "stream",
     "text": [
      "Player 1, it is your turn first\n"
     ]
    },
    {
     "ename": "IndexError",
     "evalue": "string index out of range",
     "output_type": "error",
     "traceback": [
      "\u001b[1;31m---------------------------------------------------------------------------\u001b[0m",
      "\u001b[1;31mIndexError\u001b[0m                                Traceback (most recent call last)",
      "\u001b[1;32mc:\\Users\\prana\\OneDrive\\Desktop\\Python Code\\Side-Projects\\tic-tac-toe.ipynb Cell 10\u001b[0m line \u001b[0;36m8\n\u001b[0;32m      <a href='vscode-notebook-cell:/c%3A/Users/prana/OneDrive/Desktop/Python%20Code/Side-Projects/tic-tac-toe.ipynb#X12sZmlsZQ%3D%3D?line=5'>6</a>\u001b[0m \u001b[39mprint\u001b[39m(turn \u001b[39m+\u001b[39m \u001b[39m\"\u001b[39m\u001b[39m, it is your turn first\u001b[39m\u001b[39m\"\u001b[39m)\n\u001b[0;32m      <a href='vscode-notebook-cell:/c%3A/Users/prana/OneDrive/Desktop/Python%20Code/Side-Projects/tic-tac-toe.ipynb#X12sZmlsZQ%3D%3D?line=6'>7</a>\u001b[0m ready \u001b[39m=\u001b[39m \u001b[39minput\u001b[39m(\u001b[39m\"\u001b[39m\u001b[39mAre you ready? :\u001b[39m\u001b[39m\"\u001b[39m)\n\u001b[1;32m----> <a href='vscode-notebook-cell:/c%3A/Users/prana/OneDrive/Desktop/Python%20Code/Side-Projects/tic-tac-toe.ipynb#X12sZmlsZQ%3D%3D?line=7'>8</a>\u001b[0m \u001b[39mif\u001b[39;00m ready\u001b[39m.\u001b[39;49mlower()[\u001b[39m0\u001b[39;49m] \u001b[39m==\u001b[39m \u001b[39m\"\u001b[39m\u001b[39my\u001b[39m\u001b[39m\"\u001b[39m: \u001b[39m#Much better efficient check\u001b[39;00m\n\u001b[0;32m      <a href='vscode-notebook-cell:/c%3A/Users/prana/OneDrive/Desktop/Python%20Code/Side-Projects/tic-tac-toe.ipynb#X12sZmlsZQ%3D%3D?line=8'>9</a>\u001b[0m     gameon \u001b[39m=\u001b[39m \u001b[39mTrue\u001b[39;00m\n\u001b[0;32m     <a href='vscode-notebook-cell:/c%3A/Users/prana/OneDrive/Desktop/Python%20Code/Side-Projects/tic-tac-toe.ipynb#X12sZmlsZQ%3D%3D?line=9'>10</a>\u001b[0m \u001b[39melse\u001b[39;00m:\n",
      "\u001b[1;31mIndexError\u001b[0m: string index out of range"
     ]
    }
   ],
   "source": [
    "#Main control flow\n",
    "while True: #While making games this loop is very much required\n",
    "    new_board = ['']*10\n",
    "    p1_mark, p2_mark = player_input()\n",
    "    turn = choose_first()\n",
    "    print(turn + \", it is your turn first\")\n",
    "    ready = input(\"Are you ready? :\")\n",
    "    if ready.lower()[0] == \"y\": #Much better efficient check\n",
    "        gameon = True\n",
    "    else:\n",
    "        gameon = False\n",
    "    \n",
    "    while gameon:\n",
    "        if turn == \"Player 1\":\n",
    "            display_board(new_board)\n",
    "            position  = player_choice(new_board)\n",
    "            place_marker(new_board, p1_mark, position)\n",
    "\n",
    "            if win_check(new_board, p1_mark):\n",
    "                display_board(new_board)\n",
    "                print(\"congrats! Player 1 has won the game\")\n",
    "                gameon = False\n",
    "            else:\n",
    "                if full_board_check(new_board):\n",
    "                    display_board(new_board)\n",
    "                    print(\"It is a draw!\")\n",
    "                    break\n",
    "                else:\n",
    "                    turn = \"Player 2\"\n",
    "        else:\n",
    "            display_board(new_board)\n",
    "            position  = player_choice(new_board)\n",
    "            place_marker(new_board, p2_mark, position)\n",
    "\n",
    "            if win_check(new_board, p2_mark):\n",
    "                display_board(new_board)\n",
    "                print(\"congrats! Player 2 has won the game\")\n",
    "                gameon = False\n",
    "            else:\n",
    "                if full_board_check(new_board):\n",
    "                    display_board(new_board)\n",
    "                    print(\"It is a draw!\")\n",
    "                    break\n",
    "                else:\n",
    "                    turn = \"Player 1\"\n",
    "    if not replay():\n",
    "        break        \n",
    "\n"
   ]
  },
  {
   "cell_type": "code",
   "execution_count": null,
   "metadata": {},
   "outputs": [],
   "source": []
  }
 ],
 "metadata": {
  "kernelspec": {
   "display_name": "Python 3",
   "language": "python",
   "name": "python3"
  },
  "language_info": {
   "codemirror_mode": {
    "name": "ipython",
    "version": 3
   },
   "file_extension": ".py",
   "mimetype": "text/x-python",
   "name": "python",
   "nbconvert_exporter": "python",
   "pygments_lexer": "ipython3",
   "version": "3.11.4"
  },
  "orig_nbformat": 4
 },
 "nbformat": 4,
 "nbformat_minor": 2
}
