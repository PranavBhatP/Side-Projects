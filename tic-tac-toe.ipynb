{
 "cells": [
  {
   "cell_type": "code",
   "execution_count": 11,
   "metadata": {},
   "outputs": [],
   "source": [
    "from IPython.display import clear_output\n",
    "def display_board(board):\n",
    "    clear_output()\n",
    "    \n",
    "    print(' ' + board[7] + '  | ' + board[8] + '  | ' + board[9])\n",
    "    print(' ' + board[4] + '  | ' + board[5] + '  | ' + board[6])\n",
    "    print(' ' + board[1] + '  | ' + board[2] + '  | ' + board[3])\n",
    "  "
   ]
  },
  {
   "cell_type": "code",
   "execution_count": 12,
   "metadata": {},
   "outputs": [],
   "source": [
    "def player_input():\n",
    "    marker = ''\n",
    "    while marker not in ['X', 'O']:\n",
    "        marker = input(\"Player 1, please enter your choice, (X or O): \")\n",
    "        if marker not in ['X', 'O']:\n",
    "            print(\"Please enter the correct choice\")\n",
    "    if marker == 'X':\n",
    "        return ('X', 'O')\n",
    "    else:\n",
    "        return ('O', 'X')\n",
    "    "
   ]
  },
  {
   "cell_type": "code",
   "execution_count": 13,
   "metadata": {},
   "outputs": [],
   "source": [
    "def place_marker(board, marker, position):\n",
    "    board[position] = marker"
   ]
  },
  {
   "cell_type": "code",
   "execution_count": 14,
   "metadata": {},
   "outputs": [],
   "source": [
    "def win_check(board, marker):\n",
    "    return (board[0] == marker and board[1] == marker and board[2] == marker) or (board[4] == marker and board[5] == marker and board[6] == marker) or (board[7] == marker and board[8] == marker and board[9] == marker) or (board[1] == marker and board[4] == marker and board[6] == marker) or (board[2] == marker and board[5] == marker and board[8] == marker) or (board[3] == marker and board[6] == marker and board[9] == marker) or (board[7] == marker and board[5] == marker and board[3] == marker) or (board[9] == marker and board[5] == marker and board[3] == marker) \n",
    "\n"
   ]
  },
  {
   "cell_type": "code",
   "execution_count": 15,
   "metadata": {},
   "outputs": [],
   "source": [
    "import random\n",
    "#This function carries signifcant functionality while making many different games because it can be used to select players to go first randomly\n",
    "def choose_first():\n",
    "    if random.randint(0, 1) == 0:\n",
    "        return \"Player 1\"\n",
    "    else:\n",
    "        return \"Player 2\"\n",
    "\n"
   ]
  },
  {
   "cell_type": "code",
   "execution_count": 16,
   "metadata": {},
   "outputs": [],
   "source": [
    "def space_check(board, position):\n",
    "    return board[position] == ''"
   ]
  },
  {
   "cell_type": "code",
   "execution_count": 17,
   "metadata": {},
   "outputs": [],
   "source": [
    "def full_board_check(board):\n",
    "    for i in range(1,10):\n",
    "        if space_check(board, i):\n",
    "            return False\n",
    "    return True\n"
   ]
  },
  {
   "cell_type": "code",
   "execution_count": 18,
   "metadata": {},
   "outputs": [],
   "source": [
    "def player_choice(board):\n",
    "    choice = ''\n",
    "    while choice not in ['1','2','3','4','5','6','7','8','9'] or not space_check(board, int(choice)):\n",
    "        choice = input(\"Please enter your choice, (1,9): \")\n",
    "        if choice not in ['1','2','3','4','5','6','7','8','9']:\n",
    "            print(\"Pleas enter a valid choice\")\n",
    "    \n",
    "    return int(choice)\n",
    "    \n",
    "    \n",
    "    \n",
    "        "
   ]
  },
  {
   "cell_type": "code",
   "execution_count": 19,
   "metadata": {},
   "outputs": [],
   "source": [
    "def replay():\n",
    "    return input(\"Do you want to replay the game? (y/n) \").lower().startswith(\"y\")"
   ]
  },
  {
   "cell_type": "code",
   "execution_count": 20,
   "metadata": {},
   "outputs": [
    {
     "name": "stdout",
     "output_type": "stream",
     "text": [
      " O  | O  | X\n",
      " X  | O  | O\n",
      " O  | X  | X\n",
      "It is a draw!\n"
     ]
    }
   ],
   "source": [
    "#Main control flow\n",
    "while True: #While making games this loop is very much required\n",
    "    new_board = ['']*10\n",
    "    p1_mark, p2_mark = player_input()\n",
    "    turn = choose_first()\n",
    "    print(turn + \", it is your turn first\")\n",
    "    ready = input(\"Are you ready? :\")\n",
    "    if ready.lower()[0] == \"y\": #Much better efficient check\n",
    "        gameon = True\n",
    "    else:\n",
    "        gameon = False\n",
    "    \n",
    "    while gameon:\n",
    "        if turn == \"Player 1\":\n",
    "            display_board(new_board)\n",
    "            position  = player_choice(new_board)\n",
    "            place_marker(new_board, p1_mark, position)\n",
    "\n",
    "            if win_check(new_board, p1_mark):\n",
    "                display_board(new_board)\n",
    "                print(\"congrats! Player 1 has won the game\")\n",
    "                gameon = False\n",
    "            else:\n",
    "                if full_board_check(new_board):\n",
    "                    display_board(new_board)\n",
    "                    print(\"It is a draw!\")\n",
    "                    break\n",
    "                else:\n",
    "                    turn = \"Player 2\"\n",
    "        else:\n",
    "            display_board(new_board)\n",
    "            position  = player_choice(new_board)\n",
    "            place_marker(new_board, p2_mark, position)\n",
    "\n",
    "            if win_check(new_board, p2_mark):\n",
    "                display_board(new_board)\n",
    "                print(\"congrats! Player 2 has won the game\")\n",
    "                gameon = False\n",
    "            else:\n",
    "                if full_board_check(new_board):\n",
    "                    display_board(new_board)\n",
    "                    print(\"It is a draw!\")\n",
    "                    break\n",
    "                else:\n",
    "                    turn = \"Player 1\"\n",
    "    if not replay():\n",
    "        break        \n",
    "\n"
   ]
  },
  {
   "cell_type": "code",
   "execution_count": null,
   "metadata": {},
   "outputs": [],
   "source": []
  }
 ],
 "metadata": {
  "kernelspec": {
   "display_name": "Python 3",
   "language": "python",
   "name": "python3"
  },
  "language_info": {
   "codemirror_mode": {
    "name": "ipython",
    "version": 3
   },
   "file_extension": ".py",
   "mimetype": "text/x-python",
   "name": "python",
   "nbconvert_exporter": "python",
   "pygments_lexer": "ipython3",
   "version": "3.11.4"
  },
  "orig_nbformat": 4
 },
 "nbformat": 4,
 "nbformat_minor": 2
}
