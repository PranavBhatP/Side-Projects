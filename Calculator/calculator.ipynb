{
 "cells": [
  {
   "cell_type": "code",
   "execution_count": null,
   "metadata": {},
   "outputs": [],
   "source": [
    "def display_calculator(symbol, symbol_list):\n",
    "    for i in symbol_list:\n",
    "        if i\n",
    "        \n",
    "    print(\"\"\"\n",
    "            ______________________\n",
    "            |  _________________  |\n",
    "            | |                 | |\n",
    "            | |_________________| |\n",
    "            |  ___ ___ ___   ___  |\n",
    "            | | 7 | 8 | 9 | | + | |\n",
    "            | |___|___|___| |___| |\n",
    "            | | 4 | 5 | 6 | | - | |\n",
    "            | |___|___|___| |___| |\n",
    "            | | 1 | 2 | 3 | | x | |\n",
    "            | |___|___|___| |___| |\n",
    "            | | . | 0 | = | | / | |\n",
    "            | |___|___|___| |___| |\n",
    "            |_____________________|\n",
    "          \"\"\")\n"
   ]
  }
 ],
 "metadata": {
  "kernelspec": {
   "display_name": "Python 3",
   "language": "python",
   "name": "python3"
  },
  "language_info": {
   "name": "python",
   "version": "3.11.4"
  },
  "orig_nbformat": 4
 },
 "nbformat": 4,
 "nbformat_minor": 2
}
