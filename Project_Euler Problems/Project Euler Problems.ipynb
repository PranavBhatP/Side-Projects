{
 "cells": [
  {
   "cell_type": "markdown",
   "id": "6087f5f5",
   "metadata": {},
   "source": [
    "# Problem 1\n"
   ]
  },
  {
   "cell_type": "code",
   "execution_count": 1,
   "id": "607c18ce",
   "metadata": {},
   "outputs": [
    {
     "data": {
      "text/plain": [
       "233168"
      ]
     },
     "execution_count": 1,
     "metadata": {},
     "output_type": "execute_result"
    }
   ],
   "source": [
    "def summation():\n",
    "    total = 0\n",
    "    for i in range(0,1000):\n",
    "        if i % 3 == 0 or i % 5 == 0:\n",
    "            total += i\n",
    "    return total\n",
    "\n",
    "summation()\n"
   ]
  },
  {
   "cell_type": "markdown",
   "id": "cafd9311",
   "metadata": {},
   "source": [
    "# Problem 2"
   ]
  },
  {
   "cell_type": "code",
   "execution_count": null,
   "id": "09cb0be9",
   "metadata": {
    "scrolled": true
   },
   "outputs": [],
   "source": [
    "#Fibonacci\n",
    "\n",
    "# fib_series = [1]\n",
    "# evensum = 0\n",
    "# for i in range(len(fib_series)):\n",
    "#     if i > 0 and i < 4000000:\n",
    "#         fib_series.append(fib_series[i]+fib_series[i-1])\n",
    "#         print(fib_series)\n",
    "#     else:\n",
    "#         fib_series.append(fib_series[i]*2)\n",
    "#         print(fib_series)\n",
    "\n",
    "    \n",
    "# for j in fib_series:\n",
    "#     if j % 2 ==0 :\n",
    "#         evensum += j\n",
    "\n",
    "# print(evensum)\n",
    "\n",
    "# fib_series = [1]\n",
    "# evensum = 0\n",
    "\n",
    "# while len(fib_series) <= 3805696:\n",
    "#     for i in range(len(fib_series)):\n",
    "#         if i > 0:\n",
    "#             fib_series.append(fib_series[i]+ fib_series[i-1])\n",
    "#         else:\n",
    "#             fib_series.append(fib_series[i]*2)\n",
    "        \n",
    "# for j in fib_series:\n",
    "#     if j % 2 == 0:\n",
    "#         evensum += j\n",
    "# print(len(fib_series))\n",
    "# print(evensum)\n",
    "\n",
    "\n",
    "limit = 4000000\n",
    "sum = 0 \n",
    "a = 1\n",
    "b = 1\n",
    "while b < limit:\n",
    "    if b % 2 == 0:\n",
    "        sum += b\n",
    "        h = a=b\n",
    "        a,b = b,h\n",
    "print(sum)\n",
    "\n"
   ]
  },
  {
   "cell_type": "code",
   "execution_count": null,
   "id": "0f56b172",
   "metadata": {},
   "outputs": [],
   "source": []
  },
  {
   "cell_type": "code",
   "execution_count": null,
   "id": "96935b81",
   "metadata": {},
   "outputs": [],
   "source": []
  }
 ],
 "metadata": {
  "kernelspec": {
   "display_name": "Python 3 (ipykernel)",
   "language": "python",
   "name": "python3"
  },
  "language_info": {
   "codemirror_mode": {
    "name": "ipython",
    "version": 3
   },
   "file_extension": ".py",
   "mimetype": "text/x-python",
   "name": "python",
   "nbconvert_exporter": "python",
   "pygments_lexer": "ipython3",
   "version": "3.11.3"
  }
 },
 "nbformat": 4,
 "nbformat_minor": 5
}
